{
 "cells": [
  {
   "cell_type": "code",
   "execution_count": 15,
   "metadata": {},
   "outputs": [],
   "source": [
    "# Q3 \n",
    "\n",
    "Array = [2, -1, 10, 0, 16, 12]\n",
    "\n",
    "# Runs in n log n time\n",
    "\n",
    "# first pick a partion by going through the array \n",
    "\n",
    "# count up those which are smaller \n",
    "\n",
    "\n",
    "\n",
    "count = 0\n",
    "\n",
    "for i in range(0, len(Array) - 1):\n",
    "    partition = i\n",
    "    new_array = Array[i + 1 : len(Array)]\n",
    "    for n in new_array:\n",
    "        if n < Array[i]:\n",
    "            count += 1"
   ]
  },
  {
   "cell_type": "code",
   "execution_count": 16,
   "metadata": {},
   "outputs": [
    {
     "name": "stdout",
     "output_type": "stream",
     "text": [
      "4\n"
     ]
    }
   ],
   "source": [
    "print(count)"
   ]
  },
  {
   "cell_type": "code",
   "execution_count": 70,
   "metadata": {},
   "outputs": [],
   "source": [
    "# Q4\n",
    "\n",
    "table = []\n",
    "\n",
    "girls = [1, 4, 6,7, 8]\n",
    "boys = [1, 2, 3, 4, 5, 6, 7, 8, 9, 10]\n",
    "\n",
    "k = 1\n",
    "\n",
    "\n",
    "total_possible_pairs = 0\n",
    "\n",
    "for boy in boys:\n",
    "    for girl in girls:\n",
    "        if girl in range(boy - k, boy +k):\n",
    "            tab.append([girl, boy])\n",
    "            total_possible_pairs += 1\n"
   ]
  },
  {
   "cell_type": "code",
   "execution_count": 53,
   "metadata": {},
   "outputs": [
    {
     "name": "stdout",
     "output_type": "stream",
     "text": [
      "10\n",
      "[[1, 1], [1, 2], [4, 4], [4, 5], [6, 6], [6, 7], [7, 7], [7, 8], [8, 8], [8, 9]]\n"
     ]
    }
   ],
   "source": [
    "print(total_possible_pairs)\n",
    "print(tab)"
   ]
  },
  {
   "cell_type": "code",
   "execution_count": 54,
   "metadata": {},
   "outputs": [],
   "source": [
    "# need to find the maximum pairs\n",
    "\n",
    "c = 0\n",
    "s = [[]]*10\n",
    "for i in range(0, len(tab)):\n",
    "    s[i].append(tab[i])\n",
    "    for n in tab:\n",
    "        if tab[i][0] != n[0] and tab[i][1] != n[1]:\n",
    "#             s[i].append(n)\n",
    "            pass\n",
    "\n",
    "# that doesnt work because we need it to be disjoint from all of them \n",
    "    \n",
    "\n",
    "def check_disjoint(pair1, pair2):\n",
    "    if pair1[0] != pair2[0] and pair1[1] != pair[1]:\n",
    "        return pair2\n",
    "        \n",
    "        "
   ]
  },
  {
   "cell_type": "code",
   "execution_count": 71,
   "metadata": {},
   "outputs": [],
   "source": [
    "safety = tab"
   ]
  },
  {
   "cell_type": "code",
   "execution_count": 56,
   "metadata": {},
   "outputs": [
    {
     "name": "stdout",
     "output_type": "stream",
     "text": [
      "[1, 1]\n",
      "[1, 2]\n",
      "[4, 4]\n",
      "[4, 5]\n",
      "[6, 6]\n",
      "[6, 7]\n",
      "[7, 7]\n",
      "[7, 8]\n",
      "[8, 8]\n",
      "[8, 9]\n"
     ]
    }
   ],
   "source": []
  },
  {
   "cell_type": "code",
   "execution_count": 57,
   "metadata": {},
   "outputs": [
    {
     "name": "stdout",
     "output_type": "stream",
     "text": [
      "[[[1, 1], [4, 4], [6, 6], [7, 7], [8, 8]], [[1, 2], [4, 4], [6, 6], [7, 7], [8, 8]], [[4, 4], [1, 1], [4, 4], [6, 6], [7, 7], [8, 8]], [[4, 5], [1, 1], [4, 4], [6, 6], [7, 7], [8, 8]], [[6, 6], [1, 1], [4, 4], [6, 6], [7, 7], [8, 8]], [[6, 7], [1, 1], [4, 4], [6, 6], [7, 7], [8, 8]], [[7, 7], [1, 1], [4, 4], [6, 6], [7, 7], [8, 8]], [[7, 8], [1, 1], [4, 4], [6, 6], [7, 7], [8, 8]], [[8, 8], [1, 1], [4, 4], [6, 6], [7, 7], [8, 8]], [[8, 9], [1, 1], [4, 4], [6, 6], [7, 7], [8, 8]]]\n"
     ]
    }
   ],
   "source": []
  },
  {
   "cell_type": "code",
   "execution_count": 109,
   "metadata": {},
   "outputs": [
    {
     "name": "stdout",
     "output_type": "stream",
     "text": [
      "[]\n"
     ]
    }
   ],
   "source": [
    "\n",
    "bigt = []\n",
    "\n",
    "def memo(table,count = 0, pairs = []):\n",
    "    print(table)\n",
    "    pairs = pairs\n",
    "    if table == 0:\n",
    "        bigt.append([count, pairs])\n",
    "        return (count, pairs)\n",
    "\n",
    "    for t in table:\n",
    "        pairs.append(t)\n",
    "        table.remove(t)\n",
    "        print(t)\n",
    "        for p in pairs:\n",
    "            if t[0] != p[0] and t[1] != p[1]:\n",
    "                count += 1\n",
    "                pairs.append(t)\n",
    "                memo(table, count, pairs)\n",
    "\n",
    "        \n",
    "                          \n",
    "    \n",
    "    # remove the pair from the table\n",
    "memo(safety)"
   ]
  },
  {
   "cell_type": "code",
   "execution_count": 110,
   "metadata": {},
   "outputs": [],
   "source": [
    "# final thought is that you only need to count those which are greater "
   ]
  },
  {
   "cell_type": "code",
   "execution_count": 112,
   "metadata": {},
   "outputs": [],
   "source": [
    "#question 6\n",
    "\n",
    "change = 30\n",
    "denominations = [1, 5, 10, 25]\n",
    "\n",
    "\n",
    "# def count_change(change, denominations):\n",
    "#     print(denominations)\n",
    "#     denominations.sort(reverse=True)\n",
    "#     print(denominations)\n",
    "#     count = 0\n",
    "#     for coin in denominations:\n",
    "#         # need to handle each of the "
   ]
  },
  {
   "cell_type": "code",
   "execution_count": 113,
   "metadata": {},
   "outputs": [
    {
     "name": "stdout",
     "output_type": "stream",
     "text": [
      "[1, 5, 10, 25]\n",
      "[25, 10, 5, 1]\n"
     ]
    }
   ],
   "source": [
    "count_change(change, denominations)"
   ]
  },
  {
   "cell_type": "code",
   "execution_count": 115,
   "metadata": {},
   "outputs": [],
   "source": [
    "counting = 0"
   ]
  },
  {
   "cell_type": "code",
   "execution_count": 122,
   "metadata": {},
   "outputs": [
    {
     "name": "stdout",
     "output_type": "stream",
     "text": [
      "0\n",
      "0\n"
     ]
    }
   ],
   "source": [
    "\n",
    "denominations.sort(reverse=True)\n",
    "\n",
    "\n",
    "count = 0\n",
    "\n",
    "def coins(change, denominations):\n",
    "    if change == 0:\n",
    "        count += 1\n",
    "        return \n",
    "    \n",
    "    \n",
    "    \n",
    "    for i in denominations:\n",
    "        if i <= change:\n",
    "            change = change - i\n",
    "            coins(change, denominations)\n",
    "            \n",
    "            \n",
    "            \n",
    "coins(change, denominations)"
   ]
  },
  {
   "cell_type": "code",
   "execution_count": 117,
   "metadata": {},
   "outputs": [
    {
     "name": "stdout",
     "output_type": "stream",
     "text": [
      "0\n"
     ]
    }
   ],
   "source": [
    "for i in denominations:\n",
    "    new = change - i:\n",
    "        if "
   ]
  },
  {
   "cell_type": "code",
   "execution_count": 124,
   "metadata": {},
   "outputs": [
    {
     "ename": "SyntaxError",
     "evalue": "invalid syntax (<ipython-input-124-3c13a06948e0>, line 1)",
     "output_type": "error",
     "traceback": [
      "\u001b[0;36m  File \u001b[0;32m\"<ipython-input-124-3c13a06948e0>\"\u001b[0;36m, line \u001b[0;32m1\u001b[0m\n\u001b[0;31m    Bottom up rod cutting\u001b[0m\n\u001b[0m           ^\u001b[0m\n\u001b[0;31mSyntaxError\u001b[0m\u001b[0;31m:\u001b[0m invalid syntax\n"
     ]
    }
   ],
   "source": [
    "Bottom up rod cutting \n",
    "count = 0\n"
   ]
  },
  {
   "cell_type": "code",
   "execution_count": 133,
   "metadata": {},
   "outputs": [
    {
     "name": "stdout",
     "output_type": "stream",
     "text": [
      "Maximum Obtainable Value is 0\n"
     ]
    }
   ],
   "source": [
    "import sys\n",
    " \n",
    "def big(price, n):\n",
    "    count = 0\n",
    "    # A utility function to get the\n",
    "    # maximum of two integers\n",
    "    def max(a, b):\n",
    "        return a if (a > b) else b\n",
    "\n",
    "    # Returns the best obtainable price for a rod of length n\n",
    "    # and price[] as prices of different pieces\n",
    "    def cutRod(price, n, count=0):\n",
    "        if(n <= 0):\n",
    "            count += 1\n",
    "            return count\n",
    "        max_val = -sys.maxsize-1\n",
    "\n",
    "        # Recursively cut the rod in different pieces \n",
    "        # and compare different configurations\n",
    "        for i in range(0, n):\n",
    "            max_val = max(max_val, price[i] +\n",
    "                          cutRod(price, n - i - 1, count))\n",
    "        return count\n",
    "    cutRod(price, n)\n",
    "    \n",
    "    return count\n",
    "\n",
    "\n",
    "# Driver code\n",
    "arr = [1, 5, 8, 9, 10, 17, 17, 20]\n",
    "size = len(arr)\n",
    "print(\"Maximum Obtainable Value is\", big(arr, size))"
   ]
  },
  {
   "cell_type": "code",
   "execution_count": null,
   "metadata": {},
   "outputs": [],
   "source": [
    "# Question 5\n",
    "\n",
    "\n",
    "\n",
    "maps = [[1,5,4,2],\n",
    "       [2,3,5, 4],\n",
    "       [8,7,6,2],\n",
    "       [9,3,3, 8]]"
   ]
  },
  {
   "cell_type": "code",
   "execution_count": 134,
   "metadata": {},
   "outputs": [
    {
     "name": "stdout",
     "output_type": "stream",
     "text": [
      "[[0, 0, 0, 0], [0, 0, 0, 0], [0, 0, 0, 0], [0, 0, 0, 0]]\n"
     ]
    }
   ],
   "source": [
    "answer = [[0]*4]*4\n",
    "\n",
    "\n",
    "\n",
    "def findPath(point, mountain, count=0):\n",
    "    \n",
    "    # might need to leave room for if there are multiple point options\n",
    "    # then take the larger\n",
    "    \n",
    "    #find count \n",
    "    \n",
    "    # if no choices return count\n",
    "    \n",
    "    count = 0\n",
    "    \n",
    "    choices = True\n",
    "    \n",
    "    point = point\n",
    "    \n",
    "    while choices:\n",
    "        \n",
    "        a = point[0]\n",
    "        b = point[1]\n",
    "        #point will be represented as a geometric coordinate [a, b]\n",
    "        \n",
    "        # first coordinate is the array, second is the position in the array\n",
    "        \n",
    "        # up would be a + 1\n",
    "        \n",
    "        up = maps[a + 1][b]\n",
    "        down = maps[a - 1][b]\n",
    "        \n",
    "        right = maps[a][b + 1]\n",
    "        left = maps[a][b-1]\n",
    "        \n",
    "        if up == maps[a][b] + 1:\n",
    "            point = [a+1, b]\n",
    "            count +=1\n",
    "        \n",
    "        elif down == maps[a][b] + 1:\n",
    "            point = [a-1, b]\n",
    "            count +=1\n",
    "            \n",
    "        elif right == maps[a][b] + 1:\n",
    "            \n",
    "            point = [a , b + 1]\n",
    "            count +=1\n",
    "            \n",
    "        elif left == maps[a][b] + 1:\n",
    "            \n",
    "            point = [a , b - 1]\n",
    "            count +=1\n",
    "            \n",
    "        else:\n",
    "            choices = False\n",
    "            \n",
    "    return count\n",
    "\n",
    "    \n",
    "\n",
    "\n"
   ]
  },
  {
   "cell_type": "code",
   "execution_count": null,
   "metadata": {},
   "outputs": [],
   "source": []
  }
 ],
 "metadata": {
  "kernelspec": {
   "display_name": "Python 3",
   "language": "python",
   "name": "python3"
  },
  "language_info": {
   "codemirror_mode": {
    "name": "ipython",
    "version": 3
   },
   "file_extension": ".py",
   "mimetype": "text/x-python",
   "name": "python",
   "nbconvert_exporter": "python",
   "pygments_lexer": "ipython3",
   "version": "3.8.3"
  }
 },
 "nbformat": 4,
 "nbformat_minor": 4
}
