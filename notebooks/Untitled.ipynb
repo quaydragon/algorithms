{
 "cells": [
  {
   "cell_type": "code",
   "execution_count": 69,
   "metadata": {},
   "outputs": [
    {
     "name": "stdout",
     "output_type": "stream",
     "text": [
      "Adding: 10\n",
      "Tracker set to 0\n",
      "Adding: 60\n",
      "Tracker set to 0\n",
      "Adding: 80\n",
      "Tracker set to 0\n",
      "[10, -20, 60, -10, -3, 80]\n",
      "this is down reversed\n",
      "[80, -3, -10, 60, -20, 10]\n",
      "Adding: 80\n",
      "Tracker set to 0\n",
      "Adding: 60\n",
      "Tracker set to 0\n",
      "[0, 3]\n",
      "7\n",
      "[3, 6]\n"
     ]
    }
   ],
   "source": [
    "\n",
    "\n",
    "arr = [-10, 10, -20, 60, -10, -3, 80]\n",
    "\n",
    "\n",
    "\n",
    "\n",
    "\n",
    "\n",
    "\n",
    "\n",
    "\n",
    "def linear_time_max_chunk(arr):\n",
    "    \n",
    "    \n",
    "    i = None\n",
    "    j = None\n",
    "    current = 0\n",
    "    ans = []\n",
    "    ans_index = []\n",
    "    tracker = 0\n",
    "\n",
    "    for n in range(len(arr)):\n",
    "        a = arr[n]\n",
    "\n",
    "        tracker += a\n",
    "        tracker_arr.append(a)\n",
    "        \n",
    "        \n",
    "        ## if current < tracker \n",
    "\n",
    "        if current + tracker >= current:\n",
    "            print(\"Adding:\", a)\n",
    "            ans.append(a)\n",
    "            ans_index.append(n)\n",
    "\n",
    "            j = a\n",
    "            tracker = 0\n",
    "            print('Tracker set to 0')\n",
    "\n",
    "            current += a\n",
    "            \n",
    "\n",
    "    \n",
    "    \n",
    "    \n",
    "    \n",
    "\n",
    "        \n",
    "    if len(ans_index) > 0:    \n",
    "        i = ans_index[0]\n",
    "        j = ans_index[-1]\n",
    "        \n",
    "\n",
    "        \n",
    "\n",
    "    \n",
    "    return [i,j]\n",
    "\n",
    "    \n",
    "\n",
    "\n",
    "def manager(arr):\n",
    "    \n",
    "    up = linear_time_max_chunk(arr)\n",
    "    \n",
    "    i = up[0]\n",
    "    j = up[1]\n",
    "    \n",
    "    if i != None and j != None:\n",
    "        down = arr[i:j+1]\n",
    "        print(down)\n",
    "        down.reverse()\n",
    "        \n",
    "        down_calc = linear_time_max_chunk(down)\n",
    "    \n",
    "        j = len(arr) -1 - down_calc[0]\n",
    "        i = len(arr) - 1 - down_calc[1]\n",
    "        \n",
    "        return [i,j]\n",
    "\n",
    "    return None\n",
    "    \n",
    "print(manager(arr))  \n",
    "    \n",
    "    "
   ]
  },
  {
   "cell_type": "code",
   "execution_count": 61,
   "metadata": {},
   "outputs": [
    {
     "name": "stdout",
     "output_type": "stream",
     "text": [
      "Adding: 80\n",
      "Tracker set to 0\n",
      "Adding: 60\n",
      "Tracker set to 0\n"
     ]
    },
    {
     "data": {
      "text/plain": [
       "[0, 3]"
      ]
     },
     "execution_count": 61,
     "metadata": {},
     "output_type": "execute_result"
    }
   ],
   "source": [
    "arr = [80, -3, -10, 60, -20, 10]\n",
    "\n",
    "linear_time_max_chunk(arr)"
   ]
  },
  {
   "cell_type": "code",
   "execution_count": null,
   "metadata": {},
   "outputs": [],
   "source": []
  }
 ],
 "metadata": {
  "kernelspec": {
   "display_name": "Python 3",
   "language": "python",
   "name": "python3"
  },
  "language_info": {
   "codemirror_mode": {
    "name": "ipython",
    "version": 3
   },
   "file_extension": ".py",
   "mimetype": "text/x-python",
   "name": "python",
   "nbconvert_exporter": "python",
   "pygments_lexer": "ipython3",
   "version": "3.8.3"
  }
 },
 "nbformat": 4,
 "nbformat_minor": 4
}
