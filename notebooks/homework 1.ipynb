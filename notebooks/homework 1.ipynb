{
 "cells": [
  {
   "cell_type": "code",
   "execution_count": 92,
   "metadata": {},
   "outputs": [
    {
     "name": "stdout",
     "output_type": "stream",
     "text": [
      "Mon\n",
      "Tue\n",
      "Wed\n"
     ]
    }
   ],
   "source": [
    "### Create a linked list with head A and B in python \n",
    "\n",
    "class Node:\n",
    "    def __init__(self, dataval=None):\n",
    "        self.dataval = dataval\n",
    "        self.nextval = None\n",
    "\n",
    "class SLinkedList:\n",
    "    def __init__(self):\n",
    "        self.headval = None\n",
    "\n",
    "    def listprint(self):\n",
    "        printval = self.headval\n",
    "        while printval is not None:\n",
    "            print (printval.dataval)\n",
    "            printval = printval.nextval\n",
    "    \n",
    "    def RemoveNode(self, Removekey):\n",
    "        HeadVal = self.headval\n",
    "        if (HeadVal is not None):\n",
    "            if (HeadVal.dataval == Removekey):\n",
    "                self.headval = HeadVal.nextval\n",
    "                HeadVal = None\n",
    "                return\n",
    "        while (HeadVal is not None):\n",
    "            if HeadVal.dataval == Removekey:\n",
    "                break\n",
    "            prev = HeadVal\n",
    "            HeadVal = HeadVal.nextval\n",
    "        if (HeadVal == None):\n",
    "            return\n",
    "        prev.nextval = HeadVal.nextval\n",
    "        HeadVal = None\n",
    "            \n",
    "    def listCount(self):\n",
    "        count = 0   \n",
    "        val = self.headval\n",
    "        while val is not None:\n",
    "            count += 1\n",
    "            val = val.nextval\n",
    "        return count\n",
    "\n"
   ]
  },
  {
   "cell_type": "code",
   "execution_count": 93,
   "metadata": {},
   "outputs": [],
   "source": [
    "#Make the lists\n",
    "\n",
    "#The shared nodes\n",
    "\n",
    "e = Node(\"E\")\n",
    "f = Node(\"F\")\n",
    "\n",
    "# List with head A\n",
    "# A --> AB --> AC --> AD --> E --> F\n",
    "\n",
    "\n",
    "\n",
    "alist = SLinkedList()\n",
    "alist.headval = Node(\"A\")\n",
    "ab = Node(\"AB\")\n",
    "ac = Node(\"AC\")\n",
    "ad = Node(\"AD\")\n",
    "\n",
    "alist.headval.nextval = ab\n",
    "ab.nextval = ac\n",
    "ac.nextval = ad\n",
    "ad.nextval = e\n",
    "e.nextval = f\n",
    "\n",
    "\n",
    "#List with head B\n",
    "# B --> BD --> E --> F\n",
    "\n",
    "blist = SLinkedList()\n",
    "blist.headval = Node(\"B\")\n",
    "bd = Node(\"BD\")\n",
    "blist.headval.nextval = bd\n",
    "bd.nextval = e\n",
    "e.nextval = f\n"
   ]
  },
  {
   "cell_type": "code",
   "execution_count": 94,
   "metadata": {},
   "outputs": [
    {
     "name": "stdout",
     "output_type": "stream",
     "text": [
      "Length List Head A\n",
      "6\n",
      "Length List Head B\n",
      "4\n"
     ]
    }
   ],
   "source": [
    "print(\"Length List Head A\")\n",
    "print(alist.listCount())\n",
    "print(\"Length List Head B\")\n",
    "print(blist.listCount())"
   ]
  },
  {
   "cell_type": "code",
   "execution_count": 101,
   "metadata": {},
   "outputs": [],
   "source": [
    "import copy\n",
    "\n",
    "\n",
    "def findIntersection(list1, list2):\n",
    "    \n",
    "    # find the difference between lists\n",
    "    lenDifference = abs(list1.listCount() - list2.listCount())\n",
    "    \n",
    "    # making default list if they are the same size so does not break\n",
    "    longerList = copy.deepcopy(list1)\n",
    "    shorterList = copy.deepcopy(list2)\n",
    "    \n",
    "    if lenDifference > 0:\n",
    "        if list1.listCount() < list2.listCount():\n",
    "            #Switching if list2 is longer\n",
    "            longerList = list2\n",
    "            shorterList = list1\n",
    "            \n",
    "    counter = lenDifference\n",
    "    while counter > 0:\n",
    "        #need to remove the nodes\n",
    "        longerList.RemoveNode(longerList.headval.dataval)\n",
    "        counter -= 1\n",
    "    \n",
    "    length = shorterList.listCount()\n",
    "    while length > 0:\n",
    "        # now we need to traverse and check\n",
    "        \n",
    "        #Better to compare the actual node rather than the value\n",
    "        \n",
    "        \n",
    "        if longerList.headval.dataval == shorterList.headval.dataval:\n",
    "            return longerList.headval\n",
    "        \n",
    "        longerList.RemoveNode(longerList.headval.dataval)\n",
    "        shorterList.RemoveNode(shorterList.headval.dataval)\n",
    "\n",
    "        length -= 1\n",
    "        \n",
    "    return None\n",
    "    #return first common node"
   ]
  },
  {
   "cell_type": "code",
   "execution_count": 102,
   "metadata": {},
   "outputs": [
    {
     "data": {
      "text/plain": [
       "<__main__.Node at 0x7febd86c3460>"
      ]
     },
     "execution_count": 102,
     "metadata": {},
     "output_type": "execute_result"
    }
   ],
   "source": [
    "findIntersection(alist, blist)"
   ]
  },
  {
   "cell_type": "code",
   "execution_count": 104,
   "metadata": {},
   "outputs": [
    {
     "data": {
      "text/plain": [
       "'E'"
      ]
     },
     "execution_count": 104,
     "metadata": {},
     "output_type": "execute_result"
    }
   ],
   "source": [
    "nodeCheck = findIntersection(alist, blist)\n",
    "nodeCheck.dataval"
   ]
  },
  {
   "cell_type": "code",
   "execution_count": null,
   "metadata": {},
   "outputs": [],
   "source": []
  }
 ],
 "metadata": {
  "kernelspec": {
   "display_name": "Python 3",
   "language": "python",
   "name": "python3"
  },
  "language_info": {
   "codemirror_mode": {
    "name": "ipython",
    "version": 3
   },
   "file_extension": ".py",
   "mimetype": "text/x-python",
   "name": "python",
   "nbconvert_exporter": "python",
   "pygments_lexer": "ipython3",
   "version": "3.8.3"
  }
 },
 "nbformat": 4,
 "nbformat_minor": 4
}
